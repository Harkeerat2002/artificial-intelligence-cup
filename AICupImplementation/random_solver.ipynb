{
 "cells": [
  {
   "cell_type": "markdown",
   "metadata": {},
   "source": [
    "# Random Solver\n",
    "A implemenation which takes the solvers and the roblem instance then tends to act randomly. It is a good baseline to compare with other solvers."
   ]
  },
  {
   "cell_type": "markdown",
   "metadata": {},
   "source": [
    "## Imports all the Libraries\n",
    "Importing all the libraries which are required for the implementation."
   ]
  },
  {
   "cell_type": "code",
   "execution_count": 1,
   "metadata": {},
   "outputs": [],
   "source": [
    "import random\n",
    "import glob\n",
    "import numpy as np\n",
    "import pandas as pd\n",
    "from matplotlib import pyplot as plt\n",
    "from time import time\n"
   ]
  },
  {
   "cell_type": "markdown",
   "metadata": {},
   "source": [
    "## Accessing the Data (Openning it from the CSV file) (Redo of the data_analysis.ipynb)\n",
    "Checking if the data is loaded correctly, and all the files are there or not."
   ]
  },
  {
   "cell_type": "code",
   "execution_count": 2,
   "metadata": {},
   "outputs": [
    {
     "name": "stdout",
     "output_type": "stream",
     "text": [
      "['ch130.tsp', 'd198.tsp', 'eil76.tsp', 'fl1577.tsp', 'kroA100.tsp', 'lin318.tsp', 'pcb442.tsp', 'pr439.tsp', 'rat783.tsp', 'u1060.tsp']\n",
      "True\n"
     ]
    }
   ],
   "source": [
    "problems_files = glob.glob('data/*.tsp')\n",
    "problems = []\n",
    "for prob in problems_files:\n",
    "    problems.append(prob[5:])\n",
    "    #print(prob[5:])\n",
    "\n",
    "print(problems)\n",
    "\n",
    "print(len(problems) == 10)\n"
   ]
  },
  {
   "cell_type": "markdown",
   "metadata": {},
   "source": [
    "## Finding the Euclidean Distance\n",
    "The distance between points for the edges weights. The distance between two points is the square root of the sum of the squares of the differences of the coordinates."
   ]
  },
  {
   "cell_type": "code",
   "execution_count": 3,
   "metadata": {},
   "outputs": [
    {
     "name": "stdout",
     "output_type": "stream",
     "text": [
      "4.0\n"
     ]
    }
   ],
   "source": [
    "def euclidean_distance(point_i, point_j):\n",
    "    rouding = 0\n",
    "    x_i, y_i = point_i[0], point_i[1]\n",
    "    x_j, y_j = point_j[0], point_j[1]\n",
    "    distance = np.sqrt((x_i - x_j)**2 + (y_i - y_j)**2)\n",
    "    return round(distance, rouding)\n",
    "\n",
    "point_1 = (2, 2)\n",
    "point_2 = (5, 5)\n",
    "print(euclidean_distance(point_1, point_2))"
   ]
  },
  {
   "cell_type": "markdown",
   "metadata": {},
   "source": [
    "## Reading the Data and Creating the Graph\n",
    "Reading the data from the CSV file and creating the graph. The graph is created using the networkx library."
   ]
  },
  {
   "cell_type": "code",
   "execution_count": 4,
   "metadata": {},
   "outputs": [],
   "source": [
    "class CreatingGraph:\n",
    "    def __init__(self, problem):\n",
    "        self.problem = problem\n",
    "        #self.graph = self.create_graph()\n",
    "\n",
    "        # reading the raw data from the file\n",
    "        with open (problem) as f:\n",
    "            data = f.read()\n",
    "            self.lines = data.splitlines()\n",
    "\n",
    "        \n",
    "        self.name = self.lines[0].split()[1]\n",
    "        self.type = self.lines[1].split()[1]\n",
    "        self.dimension = int(self.lines[3].split(' ')[2])\n",
    "        #self.edge_weight_type = self.lines[4].split()[2]\n",
    "\n",
    "        self.best_known = float(self.lines[5].split()[2])\n",
    "\n",
    "        self.point = np.zeros((self.dimension, 3))\n",
    "        self.distance_matrix = None\n",
    "        for i in range(self.dimension):\n",
    "            lines_i = self.lines[i+7].split(' ')\n",
    "            self.point[i, 0] = int(lines_i[0])\n",
    "            self.point[i, 1] = float(lines_i[1])\n",
    "            self.point[i, 2] = float(lines_i[2])\n",
    "        \n",
    "        #Creating the Distance Matrix of all the points\n",
    "        self.distance_matrix = np.zeros((int(self.dimension), int(self.dimension)))\n",
    "        for i in range(self.dimension):\n",
    "            for j in range(i, self.dimension):\n",
    "                self.distance_matrix[i, j] = euclidean_distance(self.point[i][1:3], self.point[j][1:3])\n",
    "            self.distance_matrix += self.distance_matrix.T\n",
    "        \n",
    "\n",
    "\n",
    "    \n",
    "    def print_metatdata(self):\n",
    "        print(\"----------------------------------\\n\")\n",
    "        print(\"Name: \", self.name)\n",
    "        print(\"Type: \", self.type)\n",
    "        print(\"Dimension: \", self.dimension)\n",
    "         #print(\"Edge Weight Type: \", self.edge_weight_type)\n",
    "        print(\"Best Known: \", self.best_known)\n",
    "        print(\"Distance Matrix: \", self.distance_matrix)\n",
    "        print(\"----------------------------------\")\n",
    "        print(self.distance_matrix[0][1])\n",
    "    \n",
    "    def plor_data(self):\n",
    "        plt.scatter(self.point[:,1], self.point[:,2])\n",
    "        plt.show()\n",
    "\n",
    " "
   ]
  },
  {
   "cell_type": "markdown",
   "metadata": {},
   "source": [
    "## Testing out the Graph\n",
    "Testing out the graph by printing the nodes and seeing if all the retrieval is fine or not."
   ]
  },
  {
   "cell_type": "code",
   "execution_count": 5,
   "metadata": {},
   "outputs": [
    {
     "name": "stdout",
     "output_type": "stream",
     "text": [
      "----------------------------------\n",
      "\n",
      "Name:  :\n",
      "Type:  :\n",
      "Dimension:  76\n",
      "Best Known:  538.0\n",
      "Distance Matrix:  [[0.00000000e+00 5.66683978e+23 8.68915433e+23 ... 6.80020774e+23\n",
      "  8.68915433e+23 9.44473297e+23]\n",
      " [5.66683978e+23 0.00000000e+00 4.53347182e+23 ... 1.32226262e+23\n",
      "  2.26673591e+23 2.83341989e+23]\n",
      " [8.68915433e+23 4.53347182e+23 0.00000000e+00 ... 2.92786722e+23\n",
      "  1.98339392e+23 1.88894659e+23]\n",
      " ...\n",
      " [6.80020774e+23 1.32226262e+23 2.92786722e+23 ... 0.00000000e+00\n",
      "  6.80000000e+01 8.00000000e+01]\n",
      " [8.68915433e+23 2.26673591e+23 1.98339392e+23 ... 6.80000000e+01\n",
      "  0.00000000e+00 6.00000000e+00]\n",
      " [9.44473297e+23 2.83341989e+23 1.88894659e+23 ... 8.00000000e+01\n",
      "  6.00000000e+00 0.00000000e+00]]\n",
      "----------------------------------\n",
      "5.666839779443574e+23\n"
     ]
    },
    {
     "data": {
      "image/png": "[encoded data removed]",
      "text/plain": [
       "<Figure size 640x480 with 1 Axes>"
      ]
     },
     "metadata": {},
     "output_type": "display_data"
    }
   ],
   "source": [
    "example_problem = \"data/eil76.tsp\"\n",
    "problem_instance = CreatingGraph(example_problem)\n",
    "CreatingGraph(example_problem).print_metatdata()\n",
    "CreatingGraph(example_problem).plor_data()"
   ]
  },
  {
   "cell_type": "markdown",
   "metadata": {},
   "source": [
    "## Creating the Random Solver"
   ]
  },
  {
   "cell_type": "code",
   "execution_count": 6,
   "metadata": {},
   "outputs": [],
   "source": [
    "def random_solver(problem):\n",
    "    return np.random.choice(np.arange(problem.dimension), size=problem.dimension, replace=False)\n",
    "available_methods = {\"random\": random_solver}\n"
   ]
  },
  {
   "cell_type": "code",
   "execution_count": 7,
   "metadata": {},
   "outputs": [
    {
     "name": "stdout",
     "output_type": "stream",
     "text": [
      "[35 61 56 48 23  3 60 10 39 20 72 37  9 40 71 49 70 45 54 73 66 13 34 57\n",
      " 30 22 15 63 24 33 43 11 26 38 25 50 14 18 47 53  2 44 32 55 16 65  1 28\n",
      " 21 29  8 12  5 67 46  0 36  4 31 68 19 58 69  6 62 64 52 59 17  7 27 42\n",
      " 74 51 41 75]\n"
     ]
    }
   ],
   "source": [
    "len(random_solver(problem_instance))\n",
    "problem_instance.dimension\n",
    "print(random_solver(problem_instance))"
   ]
  },
  {
   "cell_type": "markdown",
   "metadata": {},
   "source": [
    "## Debugging the Random Solver"
   ]
  },
  {
   "cell_type": "code",
   "execution_count": 8,
   "metadata": {},
   "outputs": [
    {
     "name": "stdout",
     "output_type": "stream",
     "text": [
      "Solution:  None\n",
      "Cost:  3.724083888571891e+24\n",
      "Gap:  6.922089012215411e+23\n",
      "Best Known:  538.0\n"
     ]
    },
    {
     "data": {
      "image/png": "[encoded data removed]",
      "text/plain": [
       "<Figure size 800x800 with 1 Axes>"
      ]
     },
     "metadata": {},
     "output_type": "display_data"
    }
   ],
   "source": [
    "class debugg_solver:\n",
    "   def __init__(self, problem, method):\n",
    "        self.problem = problem\n",
    "        self.method = method\n",
    "        self.solution = self.compute_solution()\n",
    "        self.found_length = np.inf #np.inf is a constant representing infinity\n",
    "        #self.cost = self.calculate_cost()\n",
    "\n",
    "   def compute_solution(self):\n",
    "      self.solution = available_methods[self.method](self.problem)\n",
    "      assert len(self.solution) == self.problem.dimension, \"Solution length is not equal to the problem dimension\"\n",
    "      self.evaluate_solution()\n",
    "      self.cost = self.calculate_cost()\n",
    "      self.gap = self.calculate_gap()\n",
    "   \n",
    "   def evaluate_solution(self):\n",
    "      total_distance = 0\n",
    "      starting_node = self.solution[0]\n",
    "      for node_id in self.solution[1:]:\n",
    "         edge_distance = self.problem.distance_matrix[starting_node, node_id]\n",
    "         total_distance += edge_distance\n",
    "         starting_node = node_id\n",
    "      self.found_length = total_distance + self.problem.distance_matrix[starting_node, self.solution[0]]\n",
    "      return self.found_length\n",
    "   \n",
    "   def calculate_cost(self):\n",
    "      cost = 0\n",
    "      for i in range(self.problem.dimension - 1):\n",
    "         cost += self.problem.distance_matrix[self.solution[i]][self.solution[i+1]]\n",
    "      cost += self.problem.distance_matrix[self.solution[self.problem.dimension - 1]][self.solution[0]]\n",
    "      return cost\n",
    "   \n",
    "   def calculate_gap(self):\n",
    "      return (self.found_length - self.problem.best_known) / self.problem.best_known * 100\n",
    "   \n",
    "   def print_solution(self):\n",
    "      print(\"Solution: \", self.solution)\n",
    "      print(\"Cost: \", self.cost)\n",
    "      print(\"Gap: \", self.gap)\n",
    "      print(\"Best Known: \", self.problem.best_known)\n",
    "   \n",
    "   def plot_solution(self):\n",
    "      plt.figure(figsize=(8,8))\n",
    "      ordered_points = self.problem.point[self.solution]\n",
    "      plt.scatter(ordered_points[:,1], ordered_points[:,2])\n",
    "      plt.plot(ordered_points[:,1], ordered_points[:,2], color='red')\n",
    "      plt.show()\n",
    "\n",
    "debugg_solver = debugg_solver(problem_instance, \"random\")\n",
    "debugg_solver.print_solution()\n",
    "debugg_solver.plot_solution()"
   ]
  },
  {
   "cell_type": "code",
   "execution_count": null,
   "metadata": {},
   "outputs": [],
   "source": []
  }
 ],
 "metadata": {
  "kernelspec": {
   "display_name": "Python 3.10.8 64-bit",
   "language": "python",
   "name": "python3"
  },
  "language_info": {
   "codemirror_mode": {
    "name": "ipython",
    "version": 3
   },
   "file_extension": ".py",
   "mimetype": "text/x-python",
   "name": "python",
   "nbconvert_exporter": "python",
   "pygments_lexer": "ipython3",
   "version": "3.10.8"
  },
  "orig_nbformat": 4,
  "vscode": {
   "interpreter": {
    "hash": "e7370f93d1d0cde622a1f8e1c04877d8463912d04d973331ad4851f04de6915a"
   }
  }
 },
 "nbformat": 4,
 "nbformat_minor": 2
}
