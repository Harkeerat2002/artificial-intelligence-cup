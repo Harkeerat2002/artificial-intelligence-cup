{
 "cells": [
  {
   "cell_type": "markdown",
   "metadata": {},
   "source": [
    "# Data Analysis"
   ]
  },
  {
   "cell_type": "markdown",
   "metadata": {},
   "source": [
    "## Importing Libraries"
   ]
  },
  {
   "cell_type": "code",
   "execution_count": 1,
   "metadata": {},
   "outputs": [
    {
     "name": "stdout",
     "output_type": "stream",
     "text": [
      "Defaulting to user installation because normal site-packages is not writeable\n",
      "Requirement already satisfied: ipykernel in /home/hsawhney/.local/lib/python3.10/site-packages (6.17.1)\n",
      "Requirement already satisfied: matplotlib-inline>=0.1 in /home/hsawhney/.local/lib/python3.10/site-packages (from ipykernel) (0.1.6)\n",
      "Requirement already satisfied: packaging in /usr/lib/python3.10/site-packages (from ipykernel) (21.3)\n",
      "Requirement already satisfied: nest-asyncio in /home/hsawhney/.local/lib/python3.10/site-packages (from ipykernel) (1.5.6)\n",
      "Requirement already satisfied: psutil in /usr/lib64/python3.10/site-packages (from ipykernel) (5.8.0)\n",
      "Requirement already satisfied: tornado>=6.1 in /home/hsawhney/.local/lib/python3.10/site-packages (from ipykernel) (6.2)\n",
      "Requirement already satisfied: pyzmq>=17 in /home/hsawhney/.local/lib/python3.10/site-packages (from ipykernel) (24.0.1)\n",
      "Requirement already satisfied: ipython>=7.23.1 in /home/hsawhney/.local/lib/python3.10/site-packages (from ipykernel) (8.7.0)\n",
      "Requirement already satisfied: debugpy>=1.0 in /home/hsawhney/.local/lib/python3.10/site-packages (from ipykernel) (1.6.4)\n",
      "Requirement already satisfied: traitlets>=5.1.0 in /home/hsawhney/.local/lib/python3.10/site-packages (from ipykernel) (5.6.0)\n",
      "Requirement already satisfied: jupyter-client>=6.1.12 in /home/hsawhney/.local/lib/python3.10/site-packages (from ipykernel) (7.4.7)\n",
      "Requirement already satisfied: decorator in /usr/lib/python3.10/site-packages (from ipython>=7.23.1->ipykernel) (5.1.1)\n",
      "Requirement already satisfied: stack-data in /home/hsawhney/.local/lib/python3.10/site-packages (from ipython>=7.23.1->ipykernel) (0.6.2)\n",
      "Requirement already satisfied: pickleshare in /home/hsawhney/.local/lib/python3.10/site-packages (from ipython>=7.23.1->ipykernel) (0.7.5)\n",
      "Requirement already satisfied: jedi>=0.16 in /home/hsawhney/.local/lib/python3.10/site-packages (from ipython>=7.23.1->ipykernel) (0.18.2)\n",
      "Requirement already satisfied: pexpect>4.3 in /usr/lib/python3.10/site-packages (from ipython>=7.23.1->ipykernel) (4.8.0)\n",
      "Requirement already satisfied: pygments>=2.4.0 in /home/hsawhney/.local/lib/python3.10/site-packages (from ipython>=7.23.1->ipykernel) (2.13.0)\n",
      "Requirement already satisfied: backcall in /home/hsawhney/.local/lib/python3.10/site-packages (from ipython>=7.23.1->ipykernel) (0.2.0)\n",
      "Requirement already satisfied: prompt-toolkit<3.1.0,>=3.0.11 in /home/hsawhney/.local/lib/python3.10/site-packages (from ipython>=7.23.1->ipykernel) (3.0.33)\n",
      "Requirement already satisfied: python-dateutil>=2.8.2 in /home/hsawhney/.local/lib/python3.10/site-packages (from jupyter-client>=6.1.12->ipykernel) (2.8.2)\n",
      "Requirement already satisfied: entrypoints in /home/hsawhney/.local/lib/python3.10/site-packages (from jupyter-client>=6.1.12->ipykernel) (0.4)\n",
      "Requirement already satisfied: jupyter-core>=4.9.2 in /home/hsawhney/.local/lib/python3.10/site-packages (from jupyter-client>=6.1.12->ipykernel) (5.1.0)\n",
      "Requirement already satisfied: pyparsing!=3.0.5,>=2.0.2 in /usr/lib/python3.10/site-packages (from packaging->ipykernel) (2.4.7)\n",
      "Requirement already satisfied: parso<0.9.0,>=0.8.0 in /home/hsawhney/.local/lib/python3.10/site-packages (from jedi>=0.16->ipython>=7.23.1->ipykernel) (0.8.3)\n",
      "Requirement already satisfied: platformdirs>=2.5 in /home/hsawhney/.local/lib/python3.10/site-packages (from jupyter-core>=4.9.2->jupyter-client>=6.1.12->ipykernel) (2.5.4)\n",
      "Requirement already satisfied: wcwidth in /home/hsawhney/.local/lib/python3.10/site-packages (from prompt-toolkit<3.1.0,>=3.0.11->ipython>=7.23.1->ipykernel) (0.2.5)\n",
      "Requirement already satisfied: six>=1.5 in /usr/lib/python3.10/site-packages (from python-dateutil>=2.8.2->jupyter-client>=6.1.12->ipykernel) (1.16.0)\n",
      "Requirement already satisfied: asttokens>=2.1.0 in /home/hsawhney/.local/lib/python3.10/site-packages (from stack-data->ipython>=7.23.1->ipykernel) (2.2.0)\n",
      "Requirement already satisfied: executing>=1.2.0 in /home/hsawhney/.local/lib/python3.10/site-packages (from stack-data->ipython>=7.23.1->ipykernel) (1.2.0)\n",
      "Requirement already satisfied: pure-eval in /home/hsawhney/.local/lib/python3.10/site-packages (from stack-data->ipython>=7.23.1->ipykernel) (0.2.2)\n",
      "Defaulting to user installation because normal site-packages is not writeable\n",
      "Requirement already satisfied: Pillow in /usr/lib64/python3.10/site-packages (9.1.0)\n",
      "Defaulting to user installation because normal site-packages is not writeable\n",
      "Requirement already satisfied: matplotlib in /home/hsawhney/.local/lib/python3.10/site-packages (3.6.2)\n",
      "Requirement already satisfied: fonttools>=4.22.0 in /home/hsawhney/.local/lib/python3.10/site-packages (from matplotlib) (4.38.0)\n",
      "Requirement already satisfied: kiwisolver>=1.0.1 in /home/hsawhney/.local/lib/python3.10/site-packages (from matplotlib) (1.4.4)\n",
      "Requirement already satisfied: numpy>=1.19 in /usr/lib64/python3.10/site-packages (from matplotlib) (1.22.0)\n",
      "Requirement already satisfied: pyparsing>=2.2.1 in /usr/lib/python3.10/site-packages (from matplotlib) (2.4.7)\n",
      "Requirement already satisfied: cycler>=0.10 in /home/hsawhney/.local/lib/python3.10/site-packages (from matplotlib) (0.11.0)\n",
      "Requirement already satisfied: packaging>=20.0 in /usr/lib/python3.10/site-packages (from matplotlib) (21.3)\n",
      "Requirement already satisfied: python-dateutil>=2.7 in /home/hsawhney/.local/lib/python3.10/site-packages (from matplotlib) (2.8.2)\n",
      "Requirement already satisfied: pillow>=6.2.0 in /usr/lib64/python3.10/site-packages (from matplotlib) (9.1.0)\n",
      "Requirement already satisfied: contourpy>=1.0.1 in /home/hsawhney/.local/lib/python3.10/site-packages (from matplotlib) (1.0.6)\n",
      "Requirement already satisfied: six>=1.5 in /usr/lib/python3.10/site-packages (from python-dateutil>=2.7->matplotlib) (1.16.0)\n",
      "Defaulting to user installation because normal site-packages is not writeable\n",
      "Requirement already satisfied: numpy in /usr/lib64/python3.10/site-packages (1.22.0)\n",
      "Defaulting to user installation because normal site-packages is not writeable\n",
      "Collecting pandas\n",
      "  Downloading pandas-1.5.2-cp310-cp310-manylinux_2_17_x86_64.manylinux2014_x86_64.whl (12.1 MB)\n",
      "     |████████████████████████████████| 12.1 MB 4.5 MB/s            \n",
      "\u001b[?25hRequirement already satisfied: python-dateutil>=2.8.1 in /home/hsawhney/.local/lib/python3.10/site-packages (from pandas) (2.8.2)\n",
      "Requirement already satisfied: pytz>=2020.1 in /usr/lib/python3.10/site-packages (from pandas) (2022.6)\n",
      "Requirement already satisfied: numpy>=1.21.0 in /usr/lib64/python3.10/site-packages (from pandas) (1.22.0)\n",
      "Requirement already satisfied: six>=1.5 in /usr/lib/python3.10/site-packages (from python-dateutil>=2.8.1->pandas) (1.16.0)\n",
      "Installing collected packages: pandas\n",
      "Successfully installed pandas-1.5.2\n"
     ]
    }
   ],
   "source": [
    "! pip install ipykernel\n",
    "! pip install Pillow\n",
    "! pip install matplotlib\n",
    "! pip install numpy\n",
    "! pip install pandas\n",
    "import glob\n",
    "import numpy as np\n",
    "import pandas as pd\n",
    "from matplotlib import pyplot as plt\n"
   ]
  },
  {
   "cell_type": "markdown",
   "metadata": {},
   "source": [
    "## Accessing the Data (Openning it from the CSV file)\n",
    "Checking if the data is loaded correctly, and all the files are there or not."
   ]
  },
  {
   "cell_type": "code",
   "execution_count": 2,
   "metadata": {},
   "outputs": [
    {
     "name": "stdout",
     "output_type": "stream",
     "text": [
      "['ch130.tsp', 'd198.tsp', 'eil76.tsp', 'fl1577.tsp', 'kroA100.tsp', 'lin318.tsp', 'pcb442.tsp', 'pr439.tsp', 'rat783.tsp', 'u1060.tsp']\n",
      "True\n"
     ]
    }
   ],
   "source": [
    "problems_files = glob.glob('data/*.tsp')\n",
    "problems = []\n",
    "for prob in problems_files:\n",
    "    problems.append(prob[5:])\n",
    "    #print(prob[5:])\n",
    "\n",
    "print(problems)\n",
    "\n",
    "print(len(problems) == 10)\n"
   ]
  },
  {
   "cell_type": "markdown",
   "metadata": {},
   "source": [
    "## Finding the Euclidean Distance\n",
    "The distance between points for the edges weights. The distance between two points is the square root of the sum of the squares of the differences of the coordinates."
   ]
  },
  {
   "cell_type": "code",
   "execution_count": 3,
   "metadata": {},
   "outputs": [
    {
     "name": "stdout",
     "output_type": "stream",
     "text": [
      "4.0\n"
     ]
    }
   ],
   "source": [
    "def euclidean_distance(point_1, point_2):\n",
    "    point_1_x, point_1_y = point_1[0], point_1[1]\n",
    "    point_2_x, point_2_y = point_2[0], point_2[1]\n",
    "    distance = np.sqrt((point_1_x - point_2_x)**2 + (point_1_y - point_2_y)**2)\n",
    "    roundVariable = 0\n",
    "    return round(distance, roundVariable)\n",
    "\n",
    "point_1 = (2, 2)\n",
    "point_2 = (5, 5)\n",
    "print(euclidean_distance(point_1, point_2))"
   ]
  },
  {
   "cell_type": "markdown",
   "metadata": {},
   "source": [
    "## Reading the Data and Creating the Graph\n",
    "Reading the data from the CSV file and creating the graph. The graph is created using the networkx library."
   ]
  },
  {
   "cell_type": "code",
   "execution_count": 4,
   "metadata": {},
   "outputs": [],
   "source": [
    "class CreatingGraph:\n",
    "    def __init__(self, problem):\n",
    "        self.problem = problem\n",
    "        #self.graph = self.create_graph()\n",
    "\n",
    "        # reading the raw data from the file\n",
    "        with open (problem) as f:\n",
    "            data = f.read()\n",
    "            self.lines = data.splitlines()\n",
    "\n",
    "        \n",
    "        self.name = self.lines[0].split()[1]\n",
    "        self.type = self.lines[1].split()[1]\n",
    "        self.dimension = int(self.lines[3].split(' ')[2])\n",
    "        #self.edge_weight_type = self.lines[4].split()[2]\n",
    "\n",
    "        self.best_known = float(self.lines[5].split()[2])\n",
    "\n",
    "        self.point = np.zeros((int(self.dimension), 3))\n",
    "        for i in range(self.dimension):\n",
    "            lines_i = self.lines[i+7].split(' ')\n",
    "            self.point[i][0] = int(lines_i[0])\n",
    "            self.point[i][1] = float(lines_i[1])\n",
    "            self.point[i][2] = float(lines_i[2])\n",
    "        \n",
    "        #Creating the Distance Matrix of all the points\n",
    "        self.distance_matrix = np.zeros((int(self.dimension), int(self.dimension)))\n",
    "        for i in range(self.dimension):\n",
    "            for j in range(self.dimension):\n",
    "                self.distance_matrix[i][j] = euclidean_distance(self.point[i][1:], self.point[j][1:])\n",
    "        \n",
    "\n",
    "\n",
    "    \n",
    "    def print_metatdata(self):\n",
    "        print(\"----------------------------------\\n\")\n",
    "        print(\"Name: \", self.name)\n",
    "        print(\"Type: \", self.type)\n",
    "        print(\"Dimension: \", self.dimension)\n",
    "         #print(\"Edge Weight Type: \", self.edge_weight_type)\n",
    "        print(\"Best Known: \", self.best_known)\n",
    "        print(\"----------------------------------\")\n",
    "        print(self.distance_matrix[0][1])\n",
    "    \n",
    "    def plor_data(self):\n",
    "        plt.scatter(self.point[:,1], self.point[:,2])\n",
    "        plt.show()\n",
    "\n",
    " "
   ]
  },
  {
   "cell_type": "markdown",
   "metadata": {},
   "source": [
    "## Testing out the Graph\n",
    "Testing out the graph by printing the nodes and seeing if all the retrieval is fine or not."
   ]
  },
  {
   "cell_type": "code",
   "execution_count": 5,
   "metadata": {},
   "outputs": [
    {
     "name": "stdout",
     "output_type": "stream",
     "text": [
      "----------------------------------\n",
      "\n",
      "Name:  :\n",
      "Type:  :\n",
      "Dimension:  76\n",
      "Best Known:  538.0\n",
      "----------------------------------\n",
      "15.0\n"
     ]
    },
    {
     "data": {
      "image/png": "[encoded data removed]",
      "text/plain": [
       "<Figure size 640x480 with 1 Axes>"
      ]
     },
     "metadata": {},
     "output_type": "display_data"
    }
   ],
   "source": [
    "example_problem = \"data/eil76.tsp\"\n",
    "CreatingGraph(example_problem).print_metatdata()\n",
    "CreatingGraph(example_problem).plor_data()"
   ]
  }
 ],
 "metadata": {
  "kernelspec": {
   "display_name": "Python 3.10.8 64-bit",
   "language": "python",
   "name": "python3"
  },
  "language_info": {
   "codemirror_mode": {
    "name": "ipython",
    "version": 3
   },
   "file_extension": ".py",
   "mimetype": "text/x-python",
   "name": "python",
   "nbconvert_exporter": "python",
   "pygments_lexer": "ipython3",
   "version": "3.10.8"
  },
  "orig_nbformat": 4,
  "vscode": {
   "interpreter": {
    "hash": "e7370f93d1d0cde622a1f8e1c04877d8463912d04d973331ad4851f04de6915a"
   }
  }
 },
 "nbformat": 4,
 "nbformat_minor": 2
}
